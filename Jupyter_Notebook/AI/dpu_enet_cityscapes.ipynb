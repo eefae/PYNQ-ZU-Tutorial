{
 "cells": [
  {
   "cell_type": "code",
   "execution_count": 1,
   "id": "590f0f53",
   "metadata": {},
   "outputs": [
    {
     "data": {
      "application/javascript": [
       "\n",
       "try {\n",
       "require(['notebook/js/codecell'], function(codecell) {\n",
       "  codecell.CodeCell.options_default.highlight_modes[\n",
       "      'magic_text/x-csrc'] = {'reg':[/^%%microblaze/]};\n",
       "  Jupyter.notebook.events.one('kernel_ready.Kernel', function(){\n",
       "      Jupyter.notebook.get_cells().map(function(cell){\n",
       "          if (cell.cell_type == 'code'){ cell.auto_highlight(); } }) ;\n",
       "  });\n",
       "});\n",
       "} catch (e) {};\n"
      ]
     },
     "metadata": {},
     "output_type": "display_data"
    },
    {
     "data": {
      "application/javascript": [
       "\n",
       "try {\n",
       "require(['notebook/js/codecell'], function(codecell) {\n",
       "  codecell.CodeCell.options_default.highlight_modes[\n",
       "      'magic_text/x-csrc'] = {'reg':[/^%%pybind11/]};\n",
       "  Jupyter.notebook.events.one('kernel_ready.Kernel', function(){\n",
       "      Jupyter.notebook.get_cells().map(function(cell){\n",
       "          if (cell.cell_type == 'code'){ cell.auto_highlight(); } }) ;\n",
       "  });\n",
       "});\n",
       "} catch (e) {};\n"
      ]
     },
     "metadata": {},
     "output_type": "display_data"
    },
    {
     "name": "stderr",
     "output_type": "stream",
     "text": [
      "/usr/local/share/pynq-venv/lib/python3.10/site-packages/pynq/ps.py:434: UserWarning: Setting frequency to the closest possible value 98.8879MHz.\n",
      "  warnings.warn(\n"
     ]
    }
   ],
   "source": [
    "from pynq_dpu import DpuOverlay\n",
    "overlay = DpuOverlay(\"dpu.bit\")\n",
    "overlay.load_model(\"./xmodel/dpu_enet_cityscapes.xmodel\")"
   ]
  },
  {
   "cell_type": "code",
   "execution_count": 2,
   "id": "fe5a26b0",
   "metadata": {},
   "outputs": [],
   "source": [
    "import numpy as np\n",
    "import cv2\n",
    "import os\n",
    "from PIL import Image as Img\n",
    "#import PIL as pillow\n",
    "#from PIL import Image\n",
    "\n",
    "import matplotlib.pyplot as plt\n",
    "%matplotlib inline"
   ]
  },
  {
   "cell_type": "code",
   "execution_count": 3,
   "id": "c1b27efb",
   "metadata": {},
   "outputs": [],
   "source": [
    "pallete = [128, 64, 128, 244, 35, 232, 70, 70, 70, 102, 102, 156, 190, 153, 153, 153, 153, 153, 250, 170, 30,\n",
    "           220, 220, 0, 107, 142, 35, 152, 251, 152, 70, 130, 180, 220, 20, 60, 255, 0, 0, 0, 0, 142, 0, 0, 70,\n",
    "           0, 60, 100, 0, 80, 100, 0, 0, 230, 119, 11, 32 ]\n",
    "\n",
    "MEANS = [.485, .456, .406]\n",
    "STDS =  [.229, .224, .225]"
   ]
  },
  {
   "cell_type": "code",
   "execution_count": 4,
   "id": "2a4cdbdc",
   "metadata": {},
   "outputs": [],
   "source": [
    "image_folder = 'img'\n",
    "original_images = sorted([i for i in os.listdir(image_folder) if i.startswith(\"city\")])\n",
    "total_images = len(original_images)"
   ]
  },
  {
   "cell_type": "code",
   "execution_count": 5,
   "id": "d006f945",
   "metadata": {},
   "outputs": [
    {
     "name": "stdout",
     "output_type": "stream",
     "text": [
      "shapeIn= (1, 512, 1024, 3)\n",
      "shapeOut0= (1, 512, 1024, 19)\n"
     ]
    }
   ],
   "source": [
    "dpu = overlay.runner\n",
    "inputTensors = dpu.get_input_tensors()\n",
    "outputTensors = dpu.get_output_tensors()\n",
    "\n",
    "shapeIn = tuple(inputTensors[0].dims) # (1, 1024, 512, 3)\n",
    "shapeOut0 = (tuple(outputTensors[0].dims)) # (1, 1024, 512, 19)\n",
    "print('shapeIn=',shapeIn)\n",
    "print('shapeOut0=',shapeOut0)\n",
    "\n",
    "input_data = [np.empty(shapeIn, dtype=np.float32, order=\"C\")]\n",
    "output_data = [np.empty(shapeOut0, dtype=np.float32, order=\"C\")]\n",
    "image = input_data[0]"
   ]
  },
  {
   "cell_type": "code",
   "execution_count": 6,
   "id": "db425e5b",
   "metadata": {},
   "outputs": [],
   "source": [
    "def preprocess_fn(image):\n",
    "    image = image.astype(np.float32)\n",
    "    image = image / 255.0\n",
    "    for j in range(3):\n",
    "        image[:, :, j] -= MEANS[j]\n",
    "    for j in range(3):\n",
    "        image[:, :, j] /= STDS[j]\n",
    "    return image\n",
    "\n",
    "def dpu_process(input_image):  \n",
    "    # Pre-processing\n",
    "    resized = cv2.resize(input_image,(1024,512))\n",
    "    preprocessed = preprocess_fn(resized)\n",
    "    \n",
    "    # Fetch data to DPU and trigger it\n",
    "    image[0,...] = preprocessed.reshape(shapeIn[1:])\n",
    "    job_id = dpu.execute_async(input_data, output_data)\n",
    "    dpu.wait(job_id)\n",
    "    print('output_data=',np.shape(output_data))\n",
    "    \n",
    "    # Retrieve output data\n",
    "    classMap_numpy = np.argmax(output_data[0][0], axis=-1).astype(np.uint8)\n",
    "    classMap_numpy = Img.fromarray(classMap_numpy)\n",
    "    classMap_numpy_color = classMap_numpy.copy()\n",
    "    classMap_numpy_color.putpalette(pallete)\n",
    "        \n",
    "    # Return classMap_numpy, classMap_numpy_color\n",
    "    return classMap_numpy, classMap_numpy_color"
   ]
  },
  {
   "cell_type": "code",
   "execution_count": 9,
   "id": "d9fd84f9",
   "metadata": {},
   "outputs": [],
   "source": [
    "def run(image_index, display=False):\n",
    "    # Read input image\n",
    "    input_image = cv2.imread(os.path.join(image_folder, original_images[image_index]))    \n",
    "    classMap_numpy, classMap_numpy_color = dpu_process(input_image)    \n",
    "    if display:\n",
    "        _, ax = plt.subplots(1)\n",
    "        _ = ax.imshow(classMap_numpy_color)"
   ]
  },
  {
   "cell_type": "code",
   "execution_count": 10,
   "id": "b0cdd748",
   "metadata": {},
   "outputs": [
    {
     "name": "stdout",
     "output_type": "stream",
     "text": [
      "output_data= (1, 1, 512, 1024, 19)\n"
     ]
    },
    {
     "data": {
      "image/png": "[encoded data removed]",
      "text/plain": [
       "<Figure size 432x288 with 1 Axes>"
      ]
     },
     "metadata": {
      "needs_background": "light"
     },
     "output_type": "display_data"
    }
   ],
   "source": [
    "run(0,True)"
   ]
  },
  {
   "cell_type": "code",
   "execution_count": 11,
   "id": "fa5dac9c",
   "metadata": {},
   "outputs": [
    {
     "name": "stdout",
     "output_type": "stream",
     "text": [
      "city1.jpg\n"
     ]
    }
   ],
   "source": [
    "print(original_images[0])"
   ]
  },
  {
   "cell_type": "code",
   "execution_count": null,
   "id": "30a3d5ea",
   "metadata": {},
   "outputs": [],
   "source": []
  },
  {
   "cell_type": "code",
   "execution_count": null,
   "id": "4bda5e95",
   "metadata": {},
   "outputs": [],
   "source": []
  }
 ],
 "metadata": {
  "kernelspec": {
   "display_name": "Python 3 (ipykernel)",
   "language": "python",
   "name": "python3"
  },
  "language_info": {
   "codemirror_mode": {
    "name": "ipython",
    "version": 3
   },
   "file_extension": ".py",
   "mimetype": "text/x-python",
   "name": "python",
   "nbconvert_exporter": "python",
   "pygments_lexer": "ipython3",
   "version": "3.10.4"
  }
 },
 "nbformat": 4,
 "nbformat_minor": 5
}
